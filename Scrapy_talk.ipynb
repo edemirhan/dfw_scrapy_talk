{
 "cells": [
  {
   "cell_type": "markdown",
   "metadata": {},
   "source": [
    "# Welcome to DFW Python Meetup on Scrapy and Web Crawling!"
   ]
  },
  {
   "cell_type": "markdown",
   "metadata": {},
   "source": [
    "## by Jacques (Jack) Camier, been programming in Python for three years"
   ]
  },
  {
   "cell_type": "markdown",
   "metadata": {
    "collapsed": true
   },
   "source": [
    "## Using Python version 3.6 for the talk today"
   ]
  },
  {
   "cell_type": "markdown",
   "metadata": {},
   "source": [
    "## This meetup is to give you an introduction (1,000 foot view of Spiders and Scrapy). This should get you excited about designing your own spiders using Scrapy. \n",
    "## Hard to cover so much material in  an hour!"
   ]
  },
  {
   "cell_type": "code",
   "execution_count": null,
   "metadata": {
    "collapsed": true
   },
   "outputs": [],
   "source": []
  }
 ],
 "metadata": {
  "kernelspec": {
   "display_name": "Python 3",
   "language": "python",
   "name": "python3"
  },
  "language_info": {
   "codemirror_mode": {
    "name": "ipython",
    "version": 3
   },
   "file_extension": ".py",
   "mimetype": "text/x-python",
   "name": "python",
   "nbconvert_exporter": "python",
   "pygments_lexer": "ipython3",
   "version": "3.6.6"
  }
 },
 "nbformat": 4,
 "nbformat_minor": 2
}
